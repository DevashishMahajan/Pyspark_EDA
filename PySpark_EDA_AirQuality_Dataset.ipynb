{
 "cells": [
  {
   "cell_type": "markdown",
   "id": "3714f096",
   "metadata": {},
   "source": [
    "### Exploratory Data Analysis\n",
    "In statistics, exploratory data analysis is an approach of analyzing data sets to summarize their main characteristics, often using statistical graphics and other data visualization methods. \n",
    "\n",
    "A statistical model can be used or not, but primarily EDA is for seeing what the data can tell us beyond the formal modeling and thereby contrasts traditional hypothesis testing.\n",
    "\n",
    "In other words, \n",
    "\n",
    "Exploratory Data Analysis refers to the critical process of performing initial investigations on data so as to discover patterns,to spot anomalies,to test hypothesis and to check assumptions with the help of summary statistics and graphical representations.\n",
    "\n",
    "### The objectives of EDA are to:\n",
    "\n",
    "1. Enable unexpected discoveries in the data\n",
    "2. Suggest hypothesis about the causes of observed process\n",
    "3. Assess assumptions on which statistical inference will be based\n",
    "4. Support the selection of appropriate statistical tools and techniques\n",
    "5. Provide a basis for further data collection through surveys or experiments\n",
    "\n",
    "### Techniques and tools\n",
    "\n",
    "There are a number of tools that are useful for EDA, but EDA is characterized more by the attitude taken than by particular techniques\n",
    "\n",
    "Typical graphical techniques used in EDA are:\n",
    "\n",
    "1. Box plot\n",
    "2. Histogram\n",
    "3. Scatter plot\n",
    "4. Stem-and-leaf plot\n",
    "5. Heat map\n",
    "6. Bar chart\n",
    "\n",
    "Advanced techniques can be applied to all these above mentioned graphs such as :\n",
    "1. making them dynamic\n",
    "2. applying filters on them etc"
   ]
  },
  {
   "cell_type": "code",
   "execution_count": null,
   "id": "aa6f7c50",
   "metadata": {},
   "outputs": [],
   "source": [
    "# # necessary imports \n",
    "# import findspark\n",
    "# import pyspark\n",
    "# from pyspark.sql import SparkSession # to create dataframe in pyspark\n",
    "\n",
    "# findspark.init()"
   ]
  },
  {
   "cell_type": "code",
   "execution_count": 1,
   "id": "231e958f",
   "metadata": {},
   "outputs": [],
   "source": [
    "import os\n",
    "import sys\n"
   ]
  },
  {
   "cell_type": "code",
   "execution_count": 2,
   "id": "bafced12",
   "metadata": {},
   "outputs": [],
   "source": [
    "# pip install findspark\n",
    "import findspark\n",
    "import pyspark\n",
    "\n",
    "# imports necessary modules\n",
    "from pyspark import SparkContext, SparkConf\n",
    "from pyspark.sql import SparkSession"
   ]
  },
  {
   "cell_type": "code",
   "execution_count": 3,
   "id": "c761c9fb",
   "metadata": {},
   "outputs": [
    {
     "data": {
      "text/plain": [
       "'C:\\\\Users\\\\admin\\\\Big data\\\\Spark\\\\spark-3.1.3-bin-hadoop3.2'"
      ]
     },
     "execution_count": 3,
     "metadata": {},
     "output_type": "execute_result"
    }
   ],
   "source": [
    "findspark.init()\n",
    "findspark.find()"
   ]
  },
  {
   "cell_type": "code",
   "execution_count": 4,
   "id": "02bed3a3",
   "metadata": {},
   "outputs": [],
   "source": [
    "# let us initialise the spark session\n",
    "spark = SparkSession.builder.appName(\"pyspark eda examples\").config(\"spark.some.config.option\",\"value\").getOrCreate()"
   ]
  },
  {
   "cell_type": "markdown",
   "id": "246cc9dc",
   "metadata": {},
   "source": [
    "### Index\n",
    "1. Reading csv files\n",
    "2. Checking few features of the data\n",
    "3. EDA process and techniques\n",
    "4. Visualization "
   ]
  },
  {
   "cell_type": "code",
   "execution_count": 5,
   "id": "5178662f",
   "metadata": {},
   "outputs": [],
   "source": [
    "# reading csv files\n",
    "df= spark.read.csv(\"Airquality.csv\")"
   ]
  },
  {
   "cell_type": "code",
   "execution_count": 7,
   "id": "f61987be",
   "metadata": {},
   "outputs": [
    {
     "name": "stdout",
     "output_type": "stream",
     "text": [
      "+-----+-------+----+----+\n",
      "|  _c0|    _c1| _c2| _c3|\n",
      "+-----+-------+----+----+\n",
      "|Ozone|Solar.R|Wind|Temp|\n",
      "|   41|    190| 7.4|  67|\n",
      "|   36|    118|   8|  72|\n",
      "|   12|    149|12.6|  74|\n",
      "|   18|    313|11.5|  62|\n",
      "+-----+-------+----+----+\n",
      "only showing top 5 rows\n",
      "\n"
     ]
    }
   ],
   "source": [
    "# let us have a look at top 5 records / rows\n",
    "df.show(5) \n",
    "# we can see that column names are not proper, will be making them proper in coming cells"
   ]
  },
  {
   "cell_type": "code",
   "execution_count": 8,
   "id": "445c6229",
   "metadata": {},
   "outputs": [
    {
     "name": "stdout",
     "output_type": "stream",
     "text": [
      "root\n",
      " |-- _c0: string (nullable = true)\n",
      " |-- _c1: string (nullable = true)\n",
      " |-- _c2: string (nullable = true)\n",
      " |-- _c3: string (nullable = true)\n",
      "\n"
     ]
    }
   ],
   "source": [
    "# to check the datatype of columns\n",
    "df.printSchema()"
   ]
  },
  {
   "cell_type": "code",
   "execution_count": 9,
   "id": "183251c3",
   "metadata": {},
   "outputs": [],
   "source": [
    "# since column names are not proper, will make them proper \n",
    "# importing datatypes from pyspark.sql\n",
    "\n",
    "from pyspark.sql.types import StructType, StructField, StringType, IntegerType, FloatType\n",
    "\n",
    "schema = StructType([StructField (\"Ozone\",IntegerType(),True),\n",
    "                    StructField (\"Solar.R\",IntegerType(),True),\n",
    "                    StructField (\"Wind\",FloatType(),True),\n",
    "                    StructField (\"Temp\",IntegerType(),True)])"
   ]
  },
  {
   "cell_type": "code",
   "execution_count": 13,
   "id": "14d9eb13",
   "metadata": {},
   "outputs": [
    {
     "name": "stdout",
     "output_type": "stream",
     "text": [
      "+-----+-------+----+----+\n",
      "|Ozone|Solar.R|Wind|Temp|\n",
      "+-----+-------+----+----+\n",
      "|   41|    190| 7.4|  67|\n",
      "|   36|    118| 8.0|  72|\n",
      "|   12|    149|12.6|  74|\n",
      "|   18|    313|11.5|  62|\n",
      "| null|   null|14.3|  56|\n",
      "+-----+-------+----+----+\n",
      "only showing top 5 rows\n",
      "\n"
     ]
    }
   ],
   "source": [
    "df = spark.read.csv(\"Airquality.csv\", schema=schema, header = True)\n",
    "df.show(5)"
   ]
  },
  {
   "cell_type": "code",
   "execution_count": 15,
   "id": "b53b6cef",
   "metadata": {},
   "outputs": [
    {
     "name": "stdout",
     "output_type": "stream",
     "text": [
      "+-----+-----+-----+-----+\n",
      "|col_1|col_2|col_3|col_4|\n",
      "+-----+-----+-----+-----+\n",
      "|   41|  190|  7.4|   67|\n",
      "|   36|  118|  8.0|   72|\n",
      "|   12|  149| 12.6|   74|\n",
      "|   18|  313| 11.5|   62|\n",
      "| null| null| 14.3|   56|\n",
      "+-----+-----+-----+-----+\n",
      "only showing top 5 rows\n",
      "\n"
     ]
    }
   ],
   "source": [
    "# Rename the columns\n",
    "# .toDF()\n",
    "df1=df.toDF(\"col_1\",\"col_2\",\"col_3\",\"col_4\")\n",
    "df1.show(5)"
   ]
  },
  {
   "cell_type": "code",
   "execution_count": 16,
   "id": "24fdb73a",
   "metadata": {},
   "outputs": [
    {
     "name": "stdout",
     "output_type": "stream",
     "text": [
      "Total no of records are:  153\n",
      "Column names are :  ['Ozone', 'Solar.R', 'Wind', 'Temp']\n",
      "Total no of columns are:  4\n"
     ]
    }
   ],
   "source": [
    "# count the total records in the dataframe- .count()\n",
    "# number of columns in the dataframe - len(df.columns)\n",
    "# have a look at the column names - .columns\n",
    "\n",
    "print(\"Total no of records are: \",df.count())\n",
    "print(\"Column names are : \",df.columns)\n",
    "print(\"Total no of columns are: \",len(df.columns))"
   ]
  },
  {
   "cell_type": "code",
   "execution_count": 17,
   "id": "df0d5ba6",
   "metadata": {},
   "outputs": [
    {
     "data": {
      "text/plain": [
       "Row(Ozone=41, Solar.R=190, Wind=7.400000095367432, Temp=67)"
      ]
     },
     "execution_count": 17,
     "metadata": {},
     "output_type": "execute_result"
    }
   ],
   "source": [
    "# pandas head() - shows the top 5 rows.\n",
    "# but here, it will not show as it reflected in pandas\n",
    "# rather it will reflect in some other manner\n",
    "\n",
    "df.head() # bydefault it reflect 1 row"
   ]
  },
  {
   "cell_type": "code",
   "execution_count": 18,
   "id": "3e7d683e",
   "metadata": {},
   "outputs": [
    {
     "data": {
      "text/plain": [
       "[Row(Ozone=41, Solar.R=190, Wind=7.400000095367432, Temp=67),\n",
       " Row(Ozone=36, Solar.R=118, Wind=8.0, Temp=72),\n",
       " Row(Ozone=12, Solar.R=149, Wind=12.600000381469727, Temp=74),\n",
       " Row(Ozone=18, Solar.R=313, Wind=11.5, Temp=62),\n",
       " Row(Ozone=None, Solar.R=None, Wind=14.300000190734863, Temp=56)]"
      ]
     },
     "execution_count": 18,
     "metadata": {},
     "output_type": "execute_result"
    }
   ],
   "source": [
    "df.head(5)"
   ]
  },
  {
   "cell_type": "code",
   "execution_count": 22,
   "id": "885442f2",
   "metadata": {},
   "outputs": [
    {
     "data": {
      "text/plain": [
       "[Row(Ozone=41, Solar.R=190, Wind=7.400000095367432, Temp=67),\n",
       " Row(Ozone=36, Solar.R=118, Wind=8.0, Temp=72),\n",
       " Row(Ozone=12, Solar.R=149, Wind=12.600000381469727, Temp=74),\n",
       " Row(Ozone=18, Solar.R=313, Wind=11.5, Temp=62),\n",
       " Row(Ozone=None, Solar.R=None, Wind=14.300000190734863, Temp=56)]"
      ]
     },
     "execution_count": 22,
     "metadata": {},
     "output_type": "execute_result"
    }
   ],
   "source": [
    "df.take(5)"
   ]
  },
  {
   "cell_type": "code",
   "execution_count": 21,
   "id": "04469a1f",
   "metadata": {},
   "outputs": [
    {
     "name": "stdout",
     "output_type": "stream",
     "text": [
      "+-----+\n",
      "|Ozone|\n",
      "+-----+\n",
      "|   41|\n",
      "|   36|\n",
      "|   12|\n",
      "|   18|\n",
      "| null|\n",
      "+-----+\n",
      "only showing top 5 rows\n",
      "\n"
     ]
    }
   ],
   "source": [
    "# How can we see the dataframe as we saw in pandas .head() function\n",
    "df.select(\"Ozone\").show(5)"
   ]
  },
  {
   "cell_type": "code",
   "execution_count": 27,
   "id": "f6d567c5",
   "metadata": {},
   "outputs": [
    {
     "name": "stdout",
     "output_type": "stream",
     "text": [
      "+-----+----+----+\n",
      "|Ozone|Wind|Temp|\n",
      "+-----+----+----+\n",
      "|   41| 7.4|  67|\n",
      "|   36| 8.0|  72|\n",
      "|   12|12.6|  74|\n",
      "|   18|11.5|  62|\n",
      "| null|14.3|  56|\n",
      "+-----+----+----+\n",
      "only showing top 5 rows\n",
      "\n"
     ]
    }
   ],
   "source": [
    "df.select(\"Ozone\",\"Wind\",\"Temp\").show(5)"
   ]
  },
  {
   "cell_type": "code",
   "execution_count": 31,
   "id": "12bc27d3",
   "metadata": {},
   "outputs": [
    {
     "name": "stdout",
     "output_type": "stream",
     "text": [
      "+-----+----+----+\n",
      "|Ozone|Wind|Temp|\n",
      "+-----+----+----+\n",
      "|   41| 7.4|  67|\n",
      "|   36| 8.0|  72|\n",
      "|   12|12.6|  74|\n",
      "|   18|11.5|  62|\n",
      "| null|14.3|  56|\n",
      "+-----+----+----+\n",
      "only showing top 5 rows\n",
      "\n"
     ]
    }
   ],
   "source": [
    "df.select('Ozone','Wind','Temp').show(5)"
   ]
  },
  {
   "cell_type": "code",
   "execution_count": 32,
   "id": "79f290b4",
   "metadata": {},
   "outputs": [
    {
     "data": {
      "text/html": [
       "<div>\n",
       "<style scoped>\n",
       "    .dataframe tbody tr th:only-of-type {\n",
       "        vertical-align: middle;\n",
       "    }\n",
       "\n",
       "    .dataframe tbody tr th {\n",
       "        vertical-align: top;\n",
       "    }\n",
       "\n",
       "    .dataframe thead th {\n",
       "        text-align: right;\n",
       "    }\n",
       "</style>\n",
       "<table border=\"1\" class=\"dataframe\">\n",
       "  <thead>\n",
       "    <tr style=\"text-align: right;\">\n",
       "      <th></th>\n",
       "      <th>Ozone</th>\n",
       "      <th>Solar.R</th>\n",
       "      <th>Wind</th>\n",
       "      <th>Temp</th>\n",
       "    </tr>\n",
       "  </thead>\n",
       "  <tbody>\n",
       "    <tr>\n",
       "      <th>0</th>\n",
       "      <td>41.0</td>\n",
       "      <td>190.0</td>\n",
       "      <td>7.4</td>\n",
       "      <td>67</td>\n",
       "    </tr>\n",
       "    <tr>\n",
       "      <th>1</th>\n",
       "      <td>36.0</td>\n",
       "      <td>118.0</td>\n",
       "      <td>8.0</td>\n",
       "      <td>72</td>\n",
       "    </tr>\n",
       "    <tr>\n",
       "      <th>2</th>\n",
       "      <td>12.0</td>\n",
       "      <td>149.0</td>\n",
       "      <td>12.6</td>\n",
       "      <td>74</td>\n",
       "    </tr>\n",
       "    <tr>\n",
       "      <th>3</th>\n",
       "      <td>18.0</td>\n",
       "      <td>313.0</td>\n",
       "      <td>11.5</td>\n",
       "      <td>62</td>\n",
       "    </tr>\n",
       "    <tr>\n",
       "      <th>4</th>\n",
       "      <td>NaN</td>\n",
       "      <td>NaN</td>\n",
       "      <td>14.3</td>\n",
       "      <td>56</td>\n",
       "    </tr>\n",
       "  </tbody>\n",
       "</table>\n",
       "</div>"
      ],
      "text/plain": [
       "   Ozone  Solar.R  Wind  Temp\n",
       "0   41.0    190.0   7.4    67\n",
       "1   36.0    118.0   8.0    72\n",
       "2   12.0    149.0  12.6    74\n",
       "3   18.0    313.0  11.5    62\n",
       "4    NaN      NaN  14.3    56"
      ]
     },
     "execution_count": 32,
     "metadata": {},
     "output_type": "execute_result"
    }
   ],
   "source": [
    "# Convert spark dataframe into pandas dataframe\n",
    "panda_df = df.toPandas()\n",
    "panda_df.head() # reflects tabular form data"
   ]
  },
  {
   "cell_type": "code",
   "execution_count": 33,
   "id": "6ffceece",
   "metadata": {},
   "outputs": [
    {
     "data": {
      "text/html": [
       "<div>\n",
       "<style scoped>\n",
       "    .dataframe tbody tr th:only-of-type {\n",
       "        vertical-align: middle;\n",
       "    }\n",
       "\n",
       "    .dataframe tbody tr th {\n",
       "        vertical-align: top;\n",
       "    }\n",
       "\n",
       "    .dataframe thead th {\n",
       "        text-align: right;\n",
       "    }\n",
       "</style>\n",
       "<table border=\"1\" class=\"dataframe\">\n",
       "  <thead>\n",
       "    <tr style=\"text-align: right;\">\n",
       "      <th></th>\n",
       "      <th>Ozone</th>\n",
       "      <th>Solar.R</th>\n",
       "      <th>Wind</th>\n",
       "      <th>Temp</th>\n",
       "    </tr>\n",
       "  </thead>\n",
       "  <tbody>\n",
       "    <tr>\n",
       "      <th>0</th>\n",
       "      <td>41.0</td>\n",
       "      <td>190.0</td>\n",
       "      <td>7.4</td>\n",
       "      <td>67</td>\n",
       "    </tr>\n",
       "    <tr>\n",
       "      <th>1</th>\n",
       "      <td>36.0</td>\n",
       "      <td>118.0</td>\n",
       "      <td>8.0</td>\n",
       "      <td>72</td>\n",
       "    </tr>\n",
       "    <tr>\n",
       "      <th>2</th>\n",
       "      <td>12.0</td>\n",
       "      <td>149.0</td>\n",
       "      <td>12.6</td>\n",
       "      <td>74</td>\n",
       "    </tr>\n",
       "    <tr>\n",
       "      <th>3</th>\n",
       "      <td>18.0</td>\n",
       "      <td>313.0</td>\n",
       "      <td>11.5</td>\n",
       "      <td>62</td>\n",
       "    </tr>\n",
       "    <tr>\n",
       "      <th>4</th>\n",
       "      <td>NaN</td>\n",
       "      <td>NaN</td>\n",
       "      <td>14.3</td>\n",
       "      <td>56</td>\n",
       "    </tr>\n",
       "    <tr>\n",
       "      <th>5</th>\n",
       "      <td>28.0</td>\n",
       "      <td>NaN</td>\n",
       "      <td>14.9</td>\n",
       "      <td>66</td>\n",
       "    </tr>\n",
       "    <tr>\n",
       "      <th>6</th>\n",
       "      <td>23.0</td>\n",
       "      <td>299.0</td>\n",
       "      <td>8.6</td>\n",
       "      <td>65</td>\n",
       "    </tr>\n",
       "  </tbody>\n",
       "</table>\n",
       "</div>"
      ],
      "text/plain": [
       "   Ozone  Solar.R  Wind  Temp\n",
       "0   41.0    190.0   7.4    67\n",
       "1   36.0    118.0   8.0    72\n",
       "2   12.0    149.0  12.6    74\n",
       "3   18.0    313.0  11.5    62\n",
       "4    NaN      NaN  14.3    56\n",
       "5   28.0      NaN  14.9    66\n",
       "6   23.0    299.0   8.6    65"
      ]
     },
     "execution_count": 33,
     "metadata": {},
     "output_type": "execute_result"
    }
   ],
   "source": [
    "# convert the whole spark dataframe into pandas : expensive\n",
    "# convert only small subsample of big dataframe into pandas ;=> .limit()\n",
    "\n",
    "small_df = df.limit(7).toPandas()\n",
    "small_df"
   ]
  },
  {
   "cell_type": "code",
   "execution_count": 35,
   "id": "4d623b93",
   "metadata": {},
   "outputs": [
    {
     "name": "stdout",
     "output_type": "stream",
     "text": [
      "-RECORD 0-------\n",
      " Ozone   | 41   \n",
      " Solar.R | 190  \n",
      " Wind    | 7.4  \n",
      " Temp    | 67   \n",
      "-RECORD 1-------\n",
      " Ozone   | 36   \n",
      " Solar.R | 118  \n",
      " Wind    | 8.0  \n",
      " Temp    | 72   \n",
      "-RECORD 2-------\n",
      " Ozone   | 12   \n",
      " Solar.R | 149  \n",
      " Wind    | 12.6 \n",
      " Temp    | 74   \n",
      "only showing top 3 rows\n",
      "\n"
     ]
    }
   ],
   "source": [
    "# spark dataframe\n",
    "# see columns vertically\n",
    "\n",
    "df.show(n=3, vertical = True)"
   ]
  },
  {
   "cell_type": "code",
   "execution_count": 39,
   "id": "100df5d3",
   "metadata": {},
   "outputs": [
    {
     "name": "stdout",
     "output_type": "stream",
     "text": [
      "+-----+-------+----+----+\n",
      "|Ozone|Solar.R|Wind|Temp|\n",
      "+-----+-------+----+----+\n",
      "|  168|    238| 3.4|  81|\n",
      "|  135|    269| 4.1|  84|\n",
      "|  122|    255| 4.0|  89|\n",
      "|  118|    225| 2.3|  94|\n",
      "|  115|    223| 5.7|  79|\n",
      "|  110|    207| 8.0|  90|\n",
      "|  108|    223| 8.0|  85|\n",
      "|   97|    267| 6.3|  92|\n",
      "|   97|    272| 5.7|  92|\n",
      "|   96|    167| 6.9|  91|\n",
      "+-----+-------+----+----+\n",
      "only showing top 10 rows\n",
      "\n"
     ]
    }
   ],
   "source": [
    "# orderby function \n",
    "# it orders by different columns\n",
    "# elements in column : > order\n",
    "\n",
    "df.orderBy(\"Ozone\", ascending = False).show(10)"
   ]
  },
  {
   "cell_type": "code",
   "execution_count": 40,
   "id": "30f2c4fc",
   "metadata": {},
   "outputs": [
    {
     "name": "stdout",
     "output_type": "stream",
     "text": [
      "+-------+-----------------+------------------+\n",
      "|summary|            Ozone|              Wind|\n",
      "+-------+-----------------+------------------+\n",
      "|  count|              116|               153|\n",
      "|   mean|42.12931034482759| 9.957516357010485|\n",
      "| stddev|32.98788451443395|3.5230013615389635|\n",
      "|    min|                1|               1.7|\n",
      "|    max|              168|              20.7|\n",
      "+-------+-----------------+------------------+\n",
      "\n"
     ]
    }
   ],
   "source": [
    "# Descriptive statistics of selected columns\n",
    "df.describe(\"Ozone\",\"Wind\").show()\n",
    "# reflects count, min, max, stddev, mean values"
   ]
  },
  {
   "cell_type": "code",
   "execution_count": 41,
   "id": "46f17cbb",
   "metadata": {},
   "outputs": [
    {
     "name": "stdout",
     "output_type": "stream",
     "text": [
      "+-------+-----------------+\n",
      "|summary|            Ozone|\n",
      "+-------+-----------------+\n",
      "|  count|              116|\n",
      "|   mean|42.12931034482759|\n",
      "| stddev|32.98788451443395|\n",
      "|    min|                1|\n",
      "|    max|              168|\n",
      "+-------+-----------------+\n",
      "\n"
     ]
    }
   ],
   "source": [
    "# If we need descriptive statistics of only one column\n",
    "df.describe(\"Ozone\").show()"
   ]
  },
  {
   "cell_type": "code",
   "execution_count": 43,
   "id": "9baebf96",
   "metadata": {},
   "outputs": [
    {
     "name": "stdout",
     "output_type": "stream",
     "text": [
      "+-----------------+\n",
      "|       avg(Ozone)|\n",
      "+-----------------+\n",
      "|42.12931034482759|\n",
      "+-----------------+\n",
      "\n"
     ]
    }
   ],
   "source": [
    "# If we need descriptive statistics of only one column and one parameter (mean)\n",
    "# .agg({\"column name\":\"which parameter\"})\n",
    "\n",
    "df.agg({\"Ozone\":\"mean\"}).show()"
   ]
  },
  {
   "cell_type": "code",
   "execution_count": 44,
   "id": "320e2ffb",
   "metadata": {},
   "outputs": [
    {
     "name": "stdout",
     "output_type": "stream",
     "text": [
      "+------------+\n",
      "|count(Ozone)|\n",
      "+------------+\n",
      "|         116|\n",
      "+------------+\n",
      "\n"
     ]
    }
   ],
   "source": [
    "df.agg({\"Ozone\":\"count\"}).show()"
   ]
  },
  {
   "cell_type": "code",
   "execution_count": 45,
   "id": "a1ef5e89",
   "metadata": {},
   "outputs": [
    {
     "name": "stdout",
     "output_type": "stream",
     "text": [
      "+-------+-----------------+------------------+------------------+-----------------+\n",
      "|summary|            Ozone|           Solar.R|              Wind|             Temp|\n",
      "+-------+-----------------+------------------+------------------+-----------------+\n",
      "|  count|              116|               146|               153|              153|\n",
      "|   mean|42.12931034482759|185.93150684931507| 9.957516357010485|77.88235294117646|\n",
      "| stddev|32.98788451443395| 90.05842222838169|3.5230013615389635|9.465269740971461|\n",
      "|    min|                1|                 7|               1.7|               56|\n",
      "|    25%|               18|               115|               7.4|               72|\n",
      "|    50%|               31|               203|               9.7|               79|\n",
      "|    75%|               63|               259|              11.5|               85|\n",
      "|    max|              168|               334|              20.7|               97|\n",
      "+-------+-----------------+------------------+------------------+-----------------+\n",
      "\n"
     ]
    }
   ],
   "source": [
    "# summary of the data -> .summary() method\n",
    "# .summary and .describe()\n",
    "# summary adds more parameters\n",
    "# it adds quantiles (25%, 50%, 75%)\n",
    "\n",
    "df.summary().show()"
   ]
  },
  {
   "cell_type": "code",
   "execution_count": 46,
   "id": "7c73160b",
   "metadata": {},
   "outputs": [
    {
     "name": "stdout",
     "output_type": "stream",
     "text": [
      "+-------+-----------------+------------------+-----------------+-----------------+\n",
      "|summary|            Ozone|           Solar.R|             Wind|             Temp|\n",
      "+-------+-----------------+------------------+-----------------+-----------------+\n",
      "|   mean|42.12931034482759|185.93150684931507|9.957516357010485|77.88235294117646|\n",
      "|    25%|               18|               115|              7.4|               72|\n",
      "+-------+-----------------+------------------+-----------------+-----------------+\n",
      "\n"
     ]
    }
   ],
   "source": [
    "# want to check mean and 25% also\n",
    "df.summary(\"mean\",\"25%\").show()"
   ]
  },
  {
   "cell_type": "code",
   "execution_count": 47,
   "id": "6c81d71b",
   "metadata": {},
   "outputs": [
    {
     "name": "stdout",
     "output_type": "stream",
     "text": [
      "+-------+-----------------+------------------+\n",
      "|summary|            Ozone|              Wind|\n",
      "+-------+-----------------+------------------+\n",
      "|  count|              116|               153|\n",
      "|   mean|42.12931034482759| 9.957516357010485|\n",
      "| stddev|32.98788451443395|3.5230013615389635|\n",
      "|    min|                1|               1.7|\n",
      "|    25%|               18|               7.4|\n",
      "|    50%|               31|               9.7|\n",
      "|    75%|               63|              11.5|\n",
      "|    max|              168|              20.7|\n",
      "+-------+-----------------+------------------+\n",
      "\n"
     ]
    }
   ],
   "source": [
    "# let us say we want to check for 2 columns\n",
    "# .select and .summary\n",
    "\n",
    "df.select(\"Ozone\",\"Wind\").summary().show()"
   ]
  },
  {
   "cell_type": "code",
   "execution_count": 48,
   "id": "f220f7fd",
   "metadata": {},
   "outputs": [
    {
     "name": "stdout",
     "output_type": "stream",
     "text": [
      "+-------+-----------------+-----------------+\n",
      "|summary|            Ozone|             Wind|\n",
      "+-------+-----------------+-----------------+\n",
      "|   mean|42.12931034482759|9.957516357010485|\n",
      "|    25%|               18|              7.4|\n",
      "+-------+-----------------+-----------------+\n",
      "\n"
     ]
    }
   ],
   "source": [
    "# 2 columns with 2 parameters values\n",
    "df.select(\"Ozone\",\"Wind\").summary(\"mean\",\"25%\").show()"
   ]
  },
  {
   "cell_type": "code",
   "execution_count": 49,
   "id": "3181bb52",
   "metadata": {},
   "outputs": [
    {
     "name": "stdout",
     "output_type": "stream",
     "text": [
      "+------------------+\n",
      "|stddev_samp(Ozone)|\n",
      "+------------------+\n",
      "| 32.98788451443395|\n",
      "+------------------+\n",
      "\n"
     ]
    }
   ],
   "source": [
    "# stddev\n",
    "from pyspark.sql.functions import avg, stddev\n",
    "\n",
    "df.agg(stddev(\"Ozone\")).show()"
   ]
  },
  {
   "cell_type": "code",
   "execution_count": 50,
   "id": "71074dce",
   "metadata": {},
   "outputs": [
    {
     "name": "stdout",
     "output_type": "stream",
     "text": [
      "+------------------+-----------------+\n",
      "|stddev_samp(Ozone)|       avg(Ozone)|\n",
      "+------------------+-----------------+\n",
      "| 32.98788451443395|42.12931034482759|\n",
      "+------------------+-----------------+\n",
      "\n"
     ]
    }
   ],
   "source": [
    "# 2 parameters \n",
    "# avg and stddev\n",
    "\n",
    "df.agg(stddev(\"Ozone\"),avg(\"Ozone\")).show()"
   ]
  },
  {
   "cell_type": "code",
   "execution_count": 52,
   "id": "8aed9b34",
   "metadata": {},
   "outputs": [
    {
     "data": {
      "text/plain": [
       "[18.0, 30.0, 61.0]"
      ]
     },
     "execution_count": 52,
     "metadata": {},
     "output_type": "execute_result"
    }
   ],
   "source": [
    "# we want to calculate quantiles directly\n",
    "# approxQuantile\n",
    "# 1 % of the data = 0.01\n",
    "\n",
    "df.approxQuantile(\"Ozone\",[0.25,0.5,0.75],0.01)"
   ]
  },
  {
   "cell_type": "code",
   "execution_count": 54,
   "id": "6ca9075e",
   "metadata": {},
   "outputs": [
    {
     "name": "stdout",
     "output_type": "stream",
     "text": [
      "+--------------------+\n",
      "|     Ozone_freqItems|\n",
      "+--------------------+\n",
      "|[110, 23, 122, 77...|\n",
      "+--------------------+\n",
      "\n"
     ]
    }
   ],
   "source": [
    "# frequency and \n",
    "# repitition\n",
    "# freqItems()\n",
    "\n",
    "df.freqItems([\"Ozone\"],0.01).show()"
   ]
  },
  {
   "cell_type": "code",
   "execution_count": 56,
   "id": "7ac92ffd",
   "metadata": {},
   "outputs": [
    {
     "data": {
      "text/plain": [
       "-0.4747425785074664"
      ]
     },
     "execution_count": 56,
     "metadata": {},
     "output_type": "execute_result"
    }
   ],
   "source": [
    "# Correlation between 2 columns\n",
    "df.corr(\"Ozone\",\"Wind\")"
   ]
  },
  {
   "cell_type": "markdown",
   "id": "d66990be",
   "metadata": {},
   "source": [
    "### Take sample from data"
   ]
  },
  {
   "cell_type": "code",
   "execution_count": 58,
   "id": "9e6c9eba",
   "metadata": {},
   "outputs": [
    {
     "name": "stdout",
     "output_type": "stream",
     "text": [
      "+-----+-------+----+----+\n",
      "|Ozone|Solar.R|Wind|Temp|\n",
      "+-----+-------+----+----+\n",
      "|   52|     82|12.0|  86|\n",
      "|   23|    115| 7.4|  76|\n",
      "+-----+-------+----+----+\n",
      "\n"
     ]
    }
   ],
   "source": [
    "# 1% percent sample of data\n",
    "\n",
    "sample_df = df.sample(False, 0.01)\n",
    "sample_df.show()"
   ]
  },
  {
   "cell_type": "code",
   "execution_count": 60,
   "id": "1b57f3f9",
   "metadata": {},
   "outputs": [
    {
     "name": "stdout",
     "output_type": "stream",
     "text": [
      "Rows containing in original dataset is : 153\n",
      "Rows containing in sample dataset is : 2\n"
     ]
    }
   ],
   "source": [
    "print(\"Rows containing in original dataset is :\", df.count())\n",
    "print(\"Rows containing in sample dataset is :\", sample_df.count())"
   ]
  },
  {
   "cell_type": "code",
   "execution_count": 63,
   "id": "57a0375c",
   "metadata": {},
   "outputs": [
    {
     "name": "stdout",
     "output_type": "stream",
     "text": [
      "+-----+----+\n",
      "|Ozone|Wind|\n",
      "+-----+----+\n",
      "|   39| 6.9|\n",
      "| null| 6.9|\n",
      "|   20|11.5|\n",
      "|   14|11.5|\n",
      "|   77| 5.1|\n",
      "+-----+----+\n",
      "only showing top 5 rows\n",
      "\n"
     ]
    }
   ],
   "source": [
    "# Repitition\n",
    "# we do  not repitition \n",
    "# want only unique valules\n",
    "# .distinct()\n",
    "\n",
    "df.select(\"Ozone\",\"Wind\").distinct().show(5)"
   ]
  },
  {
   "cell_type": "code",
   "execution_count": 64,
   "id": "ce382389",
   "metadata": {},
   "outputs": [
    {
     "name": "stdout",
     "output_type": "stream",
     "text": [
      "+----+\n",
      "|Wind|\n",
      "+----+\n",
      "| 6.9|\n",
      "|13.2|\n",
      "|20.1|\n",
      "| 5.7|\n",
      "|14.3|\n",
      "+----+\n",
      "only showing top 5 rows\n",
      "\n"
     ]
    }
   ],
   "source": [
    "df.select(\"Wind\").distinct().show(5)"
   ]
  },
  {
   "cell_type": "code",
   "execution_count": 66,
   "id": "60f3cea5",
   "metadata": {},
   "outputs": [
    {
     "name": "stdout",
     "output_type": "stream",
     "text": [
      "+-----+-------+----+----+\n",
      "|Ozone|Solar.R|Wind|Temp|\n",
      "+-----+-------+----+----+\n",
      "|  110|    207| 8.0|  90|\n",
      "+-----+-------+----+----+\n",
      "\n"
     ]
    }
   ],
   "source": [
    "# filter () \n",
    "# selection of dataframe \n",
    "# iloc or loc of pandas : if we want to relate it with pandas\n",
    "\n",
    "# df.loc[df[\"column name\"]==\"value\"]] # [pandas]\n",
    "# df.iloc[df[\"columnname\"]==\"value\"]] # 0, 1, 2...\n",
    "# iloc : index based values fetch\n",
    "# loc name based values fetch\n",
    "\n",
    "df.filter(df[\"Ozone\"]==110).show()"
   ]
  },
  {
   "cell_type": "code",
   "execution_count": 67,
   "id": "259896fc",
   "metadata": {},
   "outputs": [
    {
     "name": "stdout",
     "output_type": "stream",
     "text": [
      "+-------+----+\n",
      "|summary|Wind|\n",
      "+-------+----+\n",
      "|   mean| 8.0|\n",
      "| stddev|null|\n",
      "+-------+----+\n",
      "\n"
     ]
    }
   ],
   "source": [
    "# complex form of this filter function\n",
    "# 1stly filters data contains ozone value as 110\n",
    "# selecting wind column out of this data\n",
    "# mean and stddev apply\n",
    "\n",
    "df.filter(df[\"Ozone\"]==110).select(\"Wind\").summary(\"mean\", \"stddev\").show()"
   ]
  },
  {
   "cell_type": "code",
   "execution_count": 68,
   "id": "b876d11a",
   "metadata": {},
   "outputs": [
    {
     "name": "stdout",
     "output_type": "stream",
     "text": [
      "+-------+----+\n",
      "|summary|Wind|\n",
      "+-------+----+\n",
      "|   mean| 8.0|\n",
      "|  count|   1|\n",
      "+-------+----+\n",
      "\n"
     ]
    }
   ],
   "source": [
    "df.filter(df[\"Ozone\"]==110).select(\"Wind\").summary(\"mean\", \"count\").show()"
   ]
  },
  {
   "cell_type": "code",
   "execution_count": 69,
   "id": "66ce8432",
   "metadata": {},
   "outputs": [
    {
     "name": "stdout",
     "output_type": "stream",
     "text": [
      "+-------+-----+-------+----+----+\n",
      "|summary|Ozone|Solar.R|Wind|Temp|\n",
      "+-------+-----+-------+----+----+\n",
      "|   mean|110.0|  207.0| 8.0|90.0|\n",
      "|  count|    1|      1|   1|   1|\n",
      "+-------+-----+-------+----+----+\n",
      "\n"
     ]
    }
   ],
   "source": [
    "df.filter(df[\"Ozone\"]==110).summary(\"mean\", \"count\").show()"
   ]
  },
  {
   "cell_type": "code",
   "execution_count": null,
   "id": "b61cccf6",
   "metadata": {},
   "outputs": [],
   "source": []
  }
 ],
 "metadata": {
  "kernelspec": {
   "display_name": "Python 3 (ipykernel)",
   "language": "python",
   "name": "python3"
  },
  "language_info": {
   "codemirror_mode": {
    "name": "ipython",
    "version": 3
   },
   "file_extension": ".py",
   "mimetype": "text/x-python",
   "name": "python",
   "nbconvert_exporter": "python",
   "pygments_lexer": "ipython3",
   "version": "3.10.4"
  }
 },
 "nbformat": 4,
 "nbformat_minor": 5
}